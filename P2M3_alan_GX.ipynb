{
 "cells": [
  {
   "cell_type": "code",
   "execution_count": null,
   "metadata": {},
   "outputs": [],
   "source": [
    "# import libraries\n",
    "import great_expectations as ge\n",
    "import pandas as pd\n",
    "\n",
    "# muat dataset\n",
    "data_path = \"D:\\GDrive\\Jabaris\\Hactiv8\\Milestone\\p2-ftds024-hck-m3-jbrsalan\\milestone_compose\\data\\p2m3_alan_data_clean.csv\"\n",
    "df = pd.read_csv(data_path)\n",
    "df_gx = ge.from_pandas(df)"
   ]
  },
  {
   "cell_type": "code",
   "execution_count": null,
   "metadata": {},
   "outputs": [
    {
     "name": "stdout",
     "output_type": "stream",
     "text": [
      "{\n",
      "  \"success\": true,\n",
      "  \"expectation_config\": {\n",
      "    \"expectation_type\": \"expect_column_values_to_be_unique\",\n",
      "    \"kwargs\": {\n",
      "      \"column\": \"order_unique\",\n",
      "      \"result_format\": \"BASIC\"\n",
      "    },\n",
      "    \"meta\": {}\n",
      "  },\n",
      "  \"result\": {\n",
      "    \"element_count\": 66896,\n",
      "    \"missing_count\": 0,\n",
      "    \"missing_percent\": 0.0,\n",
      "    \"unexpected_count\": 0,\n",
      "    \"unexpected_percent\": 0.0,\n",
      "    \"unexpected_percent_total\": 0.0,\n",
      "    \"unexpected_percent_nonmissing\": 0.0,\n",
      "    \"partial_unexpected_list\": []\n",
      "  },\n",
      "  \"meta\": {},\n",
      "  \"exception_info\": {\n",
      "    \"raised_exception\": false,\n",
      "    \"exception_traceback\": null,\n",
      "    \"exception_message\": null\n",
      "  }\n",
      "}\n"
     ]
    }
   ],
   "source": [
    "# 1. ekspektasi kolom order_unique harus unik\n",
    "expectation1 = df_gx.expect_column_values_to_be_unique(\"order_unique\")\n",
    "print(expectation1)"
   ]
  },
  {
   "cell_type": "code",
   "execution_count": null,
   "metadata": {},
   "outputs": [
    {
     "name": "stdout",
     "output_type": "stream",
     "text": [
      "{\n",
      "  \"success\": true,\n",
      "  \"expectation_config\": {\n",
      "    \"expectation_type\": \"expect_column_values_to_be_between\",\n",
      "    \"kwargs\": {\n",
      "      \"column\": \"total_harga_produk\",\n",
      "      \"min_value\": 0,\n",
      "      \"max_value\": 10000000,\n",
      "      \"result_format\": \"BASIC\"\n",
      "    },\n",
      "    \"meta\": {}\n",
      "  },\n",
      "  \"result\": {\n",
      "    \"element_count\": 66896,\n",
      "    \"missing_count\": 0,\n",
      "    \"missing_percent\": 0.0,\n",
      "    \"unexpected_count\": 0,\n",
      "    \"unexpected_percent\": 0.0,\n",
      "    \"unexpected_percent_total\": 0.0,\n",
      "    \"unexpected_percent_nonmissing\": 0.0,\n",
      "    \"partial_unexpected_list\": []\n",
      "  },\n",
      "  \"meta\": {},\n",
      "  \"exception_info\": {\n",
      "    \"raised_exception\": false,\n",
      "    \"exception_traceback\": null,\n",
      "    \"exception_message\": null\n",
      "  }\n",
      "}\n"
     ]
    }
   ],
   "source": [
    "# 2. ekspektasi kolom total_harga_produk harus harus berada antara 0 dan 10.000.000\n",
    "expectation2 = df_gx.expect_column_values_to_be_between(\"total_harga_produk\", min_value=0, max_value=10000000)\n",
    "print(expectation2)"
   ]
  },
  {
   "cell_type": "code",
   "execution_count": null,
   "metadata": {},
   "outputs": [
    {
     "name": "stdout",
     "output_type": "stream",
     "text": [
      "{\n",
      "  \"success\": true,\n",
      "  \"expectation_config\": {\n",
      "    \"expectation_type\": \"expect_column_values_to_be_in_set\",\n",
      "    \"kwargs\": {\n",
      "      \"column\": \"metode_pembayaran\",\n",
      "      \"value_set\": [\n",
      "        \"COD (Bayar di Tempat)\",\n",
      "        \"Online Payment\",\n",
      "        \"ShopeePay\",\n",
      "        \"Indomaret/i.Saku\",\n",
      "        \"SPayLater\",\n",
      "        \"Alfamart/Alfamidi/Dan+Dan\",\n",
      "        \"Kartu Kredit/Debit\",\n",
      "        \"Bank Lainnya (Dicek Manual)\",\n",
      "        \"Cicilan Kartu Kredit\",\n",
      "        \"BRI Direct Debit\",\n",
      "        \"BCA OneKlik\",\n",
      "        \"Mitra Shopee\",\n",
      "        \"SeaBank Bayar Instan\",\n",
      "        \"Saldo Penjual\"\n",
      "      ],\n",
      "      \"result_format\": \"BASIC\"\n",
      "    },\n",
      "    \"meta\": {}\n",
      "  },\n",
      "  \"result\": {\n",
      "    \"element_count\": 66896,\n",
      "    \"missing_count\": 171,\n",
      "    \"missing_percent\": 0.2556206649127003,\n",
      "    \"unexpected_count\": 0,\n",
      "    \"unexpected_percent\": 0.0,\n",
      "    \"unexpected_percent_total\": 0.0,\n",
      "    \"unexpected_percent_nonmissing\": 0.0,\n",
      "    \"partial_unexpected_list\": []\n",
      "  },\n",
      "  \"meta\": {},\n",
      "  \"exception_info\": {\n",
      "    \"raised_exception\": false,\n",
      "    \"exception_traceback\": null,\n",
      "    \"exception_message\": null\n",
      "  }\n",
      "}\n"
     ]
    }
   ],
   "source": [
    "# 3. ekspektasi kolom metode_pembayaran harus berada dalam set metode pembayaran tertentu\n",
    "valid_payment_methods = ['COD (Bayar di Tempat)', 'Online Payment', 'ShopeePay',\n",
    "       'Indomaret/i.Saku', 'SPayLater', 'Alfamart/Alfamidi/Dan+Dan',\n",
    "       'Kartu Kredit/Debit', 'Bank Lainnya (Dicek Manual)',\n",
    "       'Cicilan Kartu Kredit', 'BRI Direct Debit', 'BCA OneKlik',\n",
    "       'Mitra Shopee', 'SeaBank Bayar Instan', 'Saldo Penjual']\n",
    "expectation3 = df_gx.expect_column_values_to_be_in_set(\"metode_pembayaran\", valid_payment_methods)\n",
    "print(expectation3)"
   ]
  },
  {
   "cell_type": "code",
   "execution_count": null,
   "metadata": {},
   "outputs": [
    {
     "name": "stdout",
     "output_type": "stream",
     "text": [
      "{\n",
      "  \"success\": true,\n",
      "  \"expectation_config\": {\n",
      "    \"expectation_type\": \"_expect_column_values_to_be_of_type__aggregate\",\n",
      "    \"kwargs\": {\n",
      "      \"column\": \"total_diskon\",\n",
      "      \"type_\": \"int64\",\n",
      "      \"result_format\": \"BASIC\"\n",
      "    },\n",
      "    \"meta\": {}\n",
      "  },\n",
      "  \"result\": {\n",
      "    \"observed_value\": \"int64\"\n",
      "  },\n",
      "  \"meta\": {},\n",
      "  \"exception_info\": {\n",
      "    \"raised_exception\": false,\n",
      "    \"exception_traceback\": null,\n",
      "    \"exception_message\": null\n",
      "  }\n",
      "}\n"
     ]
    }
   ],
   "source": [
    "# 4. ekspektasi kolom total_diskon harus berupa tipe data integer\n",
    "expectation4 = df_gx.expect_column_values_to_be_of_type(\"total_diskon\", \"int64\")\n",
    "print(expectation4)"
   ]
  },
  {
   "cell_type": "code",
   "execution_count": null,
   "metadata": {},
   "outputs": [
    {
     "name": "stdout",
     "output_type": "stream",
     "text": [
      "{\n",
      "  \"success\": true,\n",
      "  \"expectation_config\": {\n",
      "    \"expectation_type\": \"expect_column_values_to_not_be_null\",\n",
      "    \"kwargs\": {\n",
      "      \"column\": \"harga_setelah_diskon\",\n",
      "      \"result_format\": \"BASIC\"\n",
      "    },\n",
      "    \"meta\": {}\n",
      "  },\n",
      "  \"result\": {\n",
      "    \"element_count\": 66896,\n",
      "    \"unexpected_count\": 0,\n",
      "    \"unexpected_percent\": 0.0,\n",
      "    \"unexpected_percent_total\": 0.0,\n",
      "    \"partial_unexpected_list\": []\n",
      "  },\n",
      "  \"meta\": {},\n",
      "  \"exception_info\": {\n",
      "    \"raised_exception\": false,\n",
      "    \"exception_traceback\": null,\n",
      "    \"exception_message\": null\n",
      "  }\n",
      "}\n"
     ]
    }
   ],
   "source": [
    "# 5. ekspektasi kolom total_harga_setelah_diskon tidak boleh memiliki nilai null\n",
    "expectation4 = df_gx.expect_column_values_to_not_be_null(\"harga_setelah_diskon\")\n",
    "print(expectation4)"
   ]
  },
  {
   "cell_type": "code",
   "execution_count": null,
   "metadata": {},
   "outputs": [
    {
     "name": "stdout",
     "output_type": "stream",
     "text": [
      "{\n",
      "  \"success\": true,\n",
      "  \"expectation_config\": {\n",
      "    \"expectation_type\": \"expect_column_value_lengths_to_be_between\",\n",
      "    \"kwargs\": {\n",
      "      \"column\": \"username_pembeli\",\n",
      "      \"min_value\": 3,\n",
      "      \"result_format\": \"BASIC\"\n",
      "    },\n",
      "    \"meta\": {}\n",
      "  },\n",
      "  \"result\": {\n",
      "    \"element_count\": 66896,\n",
      "    \"missing_count\": 711,\n",
      "    \"missing_percent\": 1.062843817268596,\n",
      "    \"unexpected_count\": 0,\n",
      "    \"unexpected_percent\": 0.0,\n",
      "    \"unexpected_percent_total\": 0.0,\n",
      "    \"unexpected_percent_nonmissing\": 0.0,\n",
      "    \"partial_unexpected_list\": []\n",
      "  },\n",
      "  \"meta\": {},\n",
      "  \"exception_info\": {\n",
      "    \"raised_exception\": false,\n",
      "    \"exception_traceback\": null,\n",
      "    \"exception_message\": null\n",
      "  }\n",
      "}\n"
     ]
    }
   ],
   "source": [
    "# 6. ekspektasi kolom username_pembeli harus memiliki jumlah karakter lebih dari 3\n",
    "expectation6 = df_gx.expect_column_value_lengths_to_be_between(\"username_pembeli\", min_value=3)\n",
    "print(expectation6)"
   ]
  },
  {
   "cell_type": "code",
   "execution_count": null,
   "metadata": {},
   "outputs": [
    {
     "name": "stdout",
     "output_type": "stream",
     "text": [
      "{\n",
      "  \"success\": true,\n",
      "  \"expectation_config\": {\n",
      "    \"expectation_type\": \"expect_column_values_to_match_strftime_format\",\n",
      "    \"kwargs\": {\n",
      "      \"column\": \"waktu_pembayaran_dilakukan\",\n",
      "      \"strftime_format\": \"%Y-%m-%d\",\n",
      "      \"result_format\": \"BASIC\"\n",
      "    },\n",
      "    \"meta\": {}\n",
      "  },\n",
      "  \"result\": {\n",
      "    \"element_count\": 66896,\n",
      "    \"missing_count\": 7712,\n",
      "    \"missing_percent\": 11.52834250179383,\n",
      "    \"unexpected_count\": 0,\n",
      "    \"unexpected_percent\": 0.0,\n",
      "    \"unexpected_percent_total\": 0.0,\n",
      "    \"unexpected_percent_nonmissing\": 0.0,\n",
      "    \"partial_unexpected_list\": []\n",
      "  },\n",
      "  \"meta\": {},\n",
      "  \"exception_info\": {\n",
      "    \"raised_exception\": false,\n",
      "    \"exception_traceback\": null,\n",
      "    \"exception_message\": null\n",
      "  }\n",
      "}\n"
     ]
    }
   ],
   "source": [
    "# 7. ekspektasi kolom waktu_pembayaran_dilakukan harus dalam format tanggal yang benar\n",
    "expectation7 = df_gx.expect_column_values_to_match_strftime_format(\"waktu_pembayaran_dilakukan\", \"%Y-%m-%d\")\n",
    "print(expectation7)"
   ]
  }
 ],
 "metadata": {
  "kernelspec": {
   "display_name": "base",
   "language": "python",
   "name": "python3"
  },
  "language_info": {
   "codemirror_mode": {
    "name": "ipython",
    "version": 3
   },
   "file_extension": ".py",
   "mimetype": "text/x-python",
   "name": "python",
   "nbconvert_exporter": "python",
   "pygments_lexer": "ipython3",
   "version": "3.9.20"
  }
 },
 "nbformat": 4,
 "nbformat_minor": 2
}
